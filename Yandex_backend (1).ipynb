{
 "cells": [
  {
   "cell_type": "markdown",
   "id": "5ec9590c-c244-44d1-bf0b-254e36949240",
   "metadata": {
    "tags": []
   },
   "source": [
    "# [Стажировка весна-лето 2023 | бэкенд](https://contest.yandex.ru/contest/44525/enter/?retPage=)\n",
    "Разбор и решение вступительных задач стажировки Яндекс весна-лето 2023 года.\n",
    "\n",
    "- [x] [A. Лучше клавиатуры не сыскать?](#A.-Лучше-клавиатуры-не-сыскать?);\n",
    "- [x] [B. Горе от перфекционизма](#B.-Горе-от-перфекционизма)\n",
    "- [ ] [C. Знал бы прикуп...]()\n",
    "- [x] [D. Космополитизм](#D.-Космополитизм)\n",
    "- [ ] [E. Абракадабра]()  "
   ]
  },
  {
   "cell_type": "markdown",
   "id": "999ad703-2cc3-4ba1-bb6a-414b9dee5c5e",
   "metadata": {
    "tags": []
   },
   "source": [
    "## [A. Лучше клавиатуры не сыскать?](https://contest.yandex.ru/contest/44525/problems/)\n",
    "\n",
    "**Начало условия**: Кузя снова не успел сдать реферат по языковым разнообразиям в срок. «Наверное,\n",
    "у меня какая-то неоптимальная клавиатура...» — подумал Кузя и решил изобрести самую оптимальную\n",
    "клавиатуру для набора одним пальцем.  "
   ]
  },
  {
   "cell_type": "code",
   "execution_count": null,
   "id": "394de44a-1aa1-4a6e-955f-3e24c4a80879",
   "metadata": {},
   "outputs": [],
   "source": [
    "N = int(input())\n",
    "alphabet = list(map(int, input().split()))\n",
    "rows = list(map(int, input().split()))\n",
    "K = int(input())\n",
    "string = list(map(int, input().split()))\n",
    "\n",
    "mapper = dict(zip(alphabet, rows))\n",
    "\n",
    "counter = 0\n",
    "for i in range(len(string) - 1):\n",
    "    counter += int(mapper[string[i]] != mapper[string[i+1]])\n",
    "print(counter)"
   ]
  },
  {
   "cell_type": "markdown",
   "id": "869dab4f-8704-4e12-97b3-8938bb2aa706",
   "metadata": {
    "tags": []
   },
   "source": [
    "## [B. Горе от перфекционизма](https://contest.yandex.ru/contest/44525/problems/B/)\n",
    "**Начало условия**: К Новому-преновому году работники Тындекса построили N ледяных скульптур, i-я скульптура состоит из a_i килограмм льда.  \n",
    "\n",
    "Но они не посоветовались с Кузей! А ведь Кузя знает, что идеальная скульптура состоит из ровно X килограмм льда, не больше и не меньше.  \n",
    "\n",
    "Новый-преновый год уже совсем скоро, до него осталось всего  T минут. За одну минуту Кузя может выбрать одну скульптуру и добавить или удалить ровно 1 килограмм льда из неё.  \n",
    "\n",
    "Вас, как отличника художественной школы, Кузя просит найти максимальное количество идеальных скульптур в момент наступления праздника."
   ]
  },
  {
   "cell_type": "code",
   "execution_count": null,
   "id": "b509689b-c304-4df8-99b0-254e52b48ba1",
   "metadata": {},
   "outputs": [],
   "source": [
    "N, ideal_w, T = list(map(int, input().split())) \n",
    "weights = list(map(int, input().split())) \n",
    " \n",
    "mapper = dict(zip(range(1, N+1), [abs(i - ideal_w) for i in weights])) \n",
    "mapper = sorted(mapper.items(), key=lambda x: x[1]) \n",
    " \n",
    "ids = [] \n",
    "for id, time in mapper: \n",
    "    T = T - time \n",
    "    if T >= 0: \n",
    "        ids.append(id) \n",
    "    else: \n",
    "        break \n",
    " \n",
    "print(len(ids)) \n",
    "print(' '.join([str(i) for i in ids]))"
   ]
  },
  {
   "cell_type": "markdown",
   "id": "c78dfe6c-f775-41ff-a28f-b2e5da4fc98f",
   "metadata": {},
   "source": [
    "## [D. Космополитизм](https://contest.yandex.ru/contest/44525/problems/D/)\n",
    "**Начало условия**: Кузя был очень удивлён, когда на десятилетие выпуска не приехала большая часть его одноклассников.  \n",
    "\n",
    "«Чему тут удивляться, разъехались по миру», — сказал ему один из пришедших одноклассников.  \n",
    "\n",
    "Кузя решил, что раз одноклассники не приехали на выпускной, то Кузя сам привезёт выпускной им. Правда для этого Кузе необходимо узнать, в какие страны они переехали.  \n",
    "\n",
    "Кузя знает, что каждая страна разрешает переезд на основе двух характеристик:  \n",
    "* Минимальный доход, необходимый для проживания;\n",
    "* Обязательное наличие высшего образования.  \n",
    "\n",
    "Также Кузя знает, что некоторые страны разрешают переезд непосредственным детям своих граждан без необходимости удовлетворять описанным выше характеристикам.  \n",
    "\n",
    "Про каждого из уехавших одноклассников Кузя выяснил следующую информацию (мы сами не понимаем, где он всё это узнал):  \n",
    "* Величина дохода;\n",
    "* Наличие высшего образования;\n",
    "* Гражданство родителей.  \n",
    "\n",
    "Теперь Кузя просит вас, как лучшего игрока в GeoGuesser среди выпускников, выяснить страну, в которую переехал каждый из непришедших на выпускной одноклассников."
   ]
  },
  {
   "cell_type": "code",
   "execution_count": null,
   "id": "d127912b-24d4-4557-8c23-3540901a25bd",
   "metadata": {},
   "outputs": [],
   "source": [
    "N = int(input()) \n",
    "a = [list(map(int, input().split())) for _ in range(3)]\n",
    "# страны\n",
    "d1 = {}\n",
    "for i in range(N):\n",
    "    d1[i+1] = [elem[i] for elem in a]\n",
    "\n",
    "Q = int(input()) \n",
    "a = [list(map(int, input().split())) for _ in range(3)]\n",
    "# люди\n",
    "d2 = {}\n",
    "for i in range(Q):\n",
    "    d2[i+1] = [elem[i] for elem in a]\n",
    "\n",
    "arr = []\n",
    "\n",
    "for i in d2:\n",
    "    aa = list()\n",
    "    \n",
    "    for j in d1:    \n",
    "        if (d2[i][0] == 0 and d2[i][1] == 0 and d2[i][2] == 0):\n",
    "            if d1[j][0] == 0 and d1[j][1] == 0 and (d1[j][2] == 0 or d1[j][2] == 1):\n",
    "                aa.append(j)\n",
    "                break\n",
    "            \n",
    "        if (((d2[i][0] >= d1[j][0]) and (d2[i][1] - d1[j][1] >= 0)) or ((d2[i][2] == j) and (d1[j][2] == 1))):\n",
    "            aa.append(j)\n",
    "            break\n",
    "            # else:\n",
    "            #     aa.append(0)\n",
    "            #     continue        \n",
    "\n",
    "    # x = list(set(aa))\n",
    "    if len(aa) == 0:\n",
    "        arr.append(0)\n",
    "    else:\n",
    "        arr.append(aa[0])\n",
    "      \n",
    "ans_str = ' '.join(map(str, arr))\n",
    "print(ans_str)"
   ]
  }
 ],
 "metadata": {
  "kernelspec": {
   "display_name": "Python 3 (ipykernel)",
   "language": "python",
   "name": "python3"
  },
  "language_info": {
   "codemirror_mode": {
    "name": "ipython",
    "version": 3
   },
   "file_extension": ".py",
   "mimetype": "text/x-python",
   "name": "python",
   "nbconvert_exporter": "python",
   "pygments_lexer": "ipython3",
   "version": "3.9.13"
  }
 },
 "nbformat": 4,
 "nbformat_minor": 5
}
